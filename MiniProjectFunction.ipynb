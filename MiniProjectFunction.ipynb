{
 "cells": [
  {
   "cell_type": "code",
   "execution_count": 1,
   "id": "9972fbb6",
   "metadata": {},
   "outputs": [],
   "source": [
    "import pandas as pd"
   ]
  },
  {
   "cell_type": "code",
   "execution_count": 2,
   "id": "7df0e0a5",
   "metadata": {},
   "outputs": [],
   "source": [
    "friends = open(r'/Users/shawnliu/学术/friends.txt','r').readlines()\n",
    "states = open(r'/Users/shawnliu/学术/map state.txt','r').readlines()"
   ]
  },
  {
   "cell_type": "code",
   "execution_count": 14,
   "id": "6f7a57ab",
   "metadata": {},
   "outputs": [],
   "source": [
    "def map_friend(x,y):\n",
    "    col_name = ['Name','Phone','AreaCode','State']\n",
    "    df = pd.DataFrame(columns = col_name)\n",
    "    name = []\n",
    "    phone = []\n",
    "    for i in range(len(x)):\n",
    "        x[i] = x[i].rstrip('\\n')\n",
    "        if i % 2 == 0:\n",
    "            name.append(x[i])\n",
    "        else:\n",
    "            phone.append(x[i])\n",
    "    df['Name'] = name\n",
    "    df['Phone'] = phone\n",
    "    for i in range(len(df.index)):\n",
    "        df.at[i,'Phone'] = df.at[i,'Phone'].replace('(' , '')\n",
    "        df.at[i,'Phone'] = df.at[i,'Phone'].replace(')' , '')\n",
    "        df.at[i,'AreaCode'] = df.at[i,'Phone'][0:3]\n",
    "    States = {}\n",
    "    for i in range(len(y)):\n",
    "        y[i] = y[i].rstrip('\\n')\n",
    "        if i % 2 == 0:\n",
    "            States[y[i]] = y[i+1]\n",
    "    for i in range(len(df.index)):\n",
    "        df.at[i,'State'] = States[df.at[i,'AreaCode']]\n",
    "    return df"
   ]
  },
  {
   "cell_type": "code",
   "execution_count": 15,
   "id": "1a24e1b2",
   "metadata": {},
   "outputs": [
    {
     "data": {
      "text/html": [
       "<div>\n",
       "<style scoped>\n",
       "    .dataframe tbody tr th:only-of-type {\n",
       "        vertical-align: middle;\n",
       "    }\n",
       "\n",
       "    .dataframe tbody tr th {\n",
       "        vertical-align: top;\n",
       "    }\n",
       "\n",
       "    .dataframe thead th {\n",
       "        text-align: right;\n",
       "    }\n",
       "</style>\n",
       "<table border=\"1\" class=\"dataframe\">\n",
       "  <thead>\n",
       "    <tr style=\"text-align: right;\">\n",
       "      <th></th>\n",
       "      <th>Name</th>\n",
       "      <th>Phone</th>\n",
       "      <th>AreaCode</th>\n",
       "      <th>State</th>\n",
       "    </tr>\n",
       "  </thead>\n",
       "  <tbody>\n",
       "    <tr>\n",
       "      <th>0</th>\n",
       "      <td>Ana</td>\n",
       "      <td>801-456-789</td>\n",
       "      <td>801</td>\n",
       "      <td>Utah</td>\n",
       "    </tr>\n",
       "    <tr>\n",
       "      <th>1</th>\n",
       "      <td>Ben</td>\n",
       "      <td>609 4567890</td>\n",
       "      <td>609</td>\n",
       "      <td>New Jersey</td>\n",
       "    </tr>\n",
       "    <tr>\n",
       "      <th>2</th>\n",
       "      <td>Cory</td>\n",
       "      <td>206-345-2619</td>\n",
       "      <td>206</td>\n",
       "      <td>Washington</td>\n",
       "    </tr>\n",
       "    <tr>\n",
       "      <th>3</th>\n",
       "      <td>Danny</td>\n",
       "      <td>6095648765</td>\n",
       "      <td>609</td>\n",
       "      <td>New Jersey</td>\n",
       "    </tr>\n",
       "  </tbody>\n",
       "</table>\n",
       "</div>"
      ],
      "text/plain": [
       "    Name         Phone AreaCode       State\n",
       "0    Ana   801-456-789      801        Utah\n",
       "1    Ben   609 4567890      609  New Jersey\n",
       "2   Cory  206-345-2619      206  Washington\n",
       "3  Danny    6095648765      609  New Jersey"
      ]
     },
     "execution_count": 15,
     "metadata": {},
     "output_type": "execute_result"
    }
   ],
   "source": [
    "map_friend(friends,states)"
   ]
  },
  {
   "cell_type": "code",
   "execution_count": null,
   "id": "869b564d",
   "metadata": {},
   "outputs": [],
   "source": []
  }
 ],
 "metadata": {
  "kernelspec": {
   "display_name": "Python 3 (ipykernel)",
   "language": "python",
   "name": "python3"
  },
  "language_info": {
   "codemirror_mode": {
    "name": "ipython",
    "version": 3
   },
   "file_extension": ".py",
   "mimetype": "text/x-python",
   "name": "python",
   "nbconvert_exporter": "python",
   "pygments_lexer": "ipython3",
   "version": "3.9.7"
  }
 },
 "nbformat": 4,
 "nbformat_minor": 5
}
